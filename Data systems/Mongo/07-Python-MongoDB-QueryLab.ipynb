{
 "cells": [
  {
   "cell_type": "markdown",
   "id": "224886b1",
   "metadata": {},
   "source": [
    "## Using Python to Query MongoDB\n",
    "This notebook demonstrates additional MongoDB querying technicques using the **pymongo** library.  As it's name implies, pymongo is the MongoDB library for Python, and its **documnentation** can be found here: https://pymongo.readthedocs.io/en/stable/index.html\n",
    "\n",
    "### 1.0. Prerequisites\n",
    "This demonstration uses an instance of **MongoDB Atlas** *(the MongoDB cloud service)*; therefore, you must first create a **free** *(Shared)* instance of that service. This can be accomplished by following the instructions at: https://docs.atlas.mongodb.com/tutorial/create-new-cluster/.\n",
    "\n",
    "If you prefer to use a local instance of MongoDB then you will have to import the **trips.json** file to create the collection we will be working with.  This can either be accomplished using **MongoDB Compass**, or with sample code in the **06-Python-MongoDB-ETL** notebook.\n",
    "\n",
    "#### 1.1. Install the *pymongo* libary into your *python* environment by executing the following command in a *Terminal window*\n",
    "-  python -m pip install pymongo[srv]\n",
    "\n",
    "#### 1.2. Import the libaries that you'll be working with in the notebook,"
   ]
  },
  {
   "cell_type": "code",
   "execution_count": 7,
   "id": "ef522937",
   "metadata": {},
   "outputs": [],
   "source": [
    "import os\n",
    "import datetime\n",
    "import pymongo\n",
    "import pandas as pd"
   ]
  },
  {
   "cell_type": "markdown",
   "id": "83d1e183",
   "metadata": {},
   "source": [
    "### 2.0. Connecting to the MongoDB Instance"
   ]
  },
  {
   "cell_type": "code",
   "execution_count": 17,
   "id": "7c9db2a3",
   "metadata": {},
   "outputs": [],
   "source": [
    "host_name = \"localhost\"\n",
    "port = \"27017\"\n",
    "\n",
    "atlas_cluster_name = \"cluster0\"\n",
    "atlas_default_dbname = \"sample_training\"\n",
    "atlas_user_name = \"jb9war\"\n",
    "atlas_password = \"Antvenom21!\"\n",
    "\n",
    "conn_str = {\"local\" : f\"mongodb://{host_name}:{port}/\",\n",
    "    \"atlas\" : f\"mongodb+srv://{atlas_user_name}:{atlas_password}@{atlas_cluster_name}.zibbf.mongodb.net/{atlas_default_dbname}?retryWrites=true&w=majority\"\n",
    "}"
   ]
  },
  {
   "cell_type": "markdown",
   "id": "c7f7c37c",
   "metadata": {},
   "source": [
    "#### 2.1. Interogate the MongoDB Atlas instance for the databases it hosts."
   ]
  },
  {
   "cell_type": "code",
   "execution_count": 19,
   "id": "a6d3b5f0",
   "metadata": {},
   "outputs": [
    {
     "ename": "ConfigurationError",
     "evalue": "The \"dnspython\" module must be installed to use mongodb+srv:// URIs. To fix this error install pymongo with the srv extra:\n C:\\Users\\Student\\anaconda3\\python.exe -m pip install \"pymongo[srv]\"",
     "output_type": "error",
     "traceback": [
      "\u001b[1;31m---------------------------------------------------------------------------\u001b[0m",
      "\u001b[1;31mConfigurationError\u001b[0m                        Traceback (most recent call last)",
      "\u001b[1;32m<ipython-input-19-e9fadc1fb2b7>\u001b[0m in \u001b[0;36m<module>\u001b[1;34m\u001b[0m\n\u001b[1;32m----> 1\u001b[1;33m \u001b[0mclient\u001b[0m \u001b[1;33m=\u001b[0m \u001b[0mpymongo\u001b[0m\u001b[1;33m.\u001b[0m\u001b[0mMongoClient\u001b[0m\u001b[1;33m(\u001b[0m\u001b[0mconn_str\u001b[0m\u001b[1;33m[\u001b[0m\u001b[1;34m\"atlas\"\u001b[0m\u001b[1;33m]\u001b[0m\u001b[1;33m)\u001b[0m\u001b[1;33m\u001b[0m\u001b[1;33m\u001b[0m\u001b[0m\n\u001b[0m\u001b[0;32m      2\u001b[0m \u001b[0mclient\u001b[0m\u001b[1;33m.\u001b[0m\u001b[0mlist_database_names\u001b[0m\u001b[1;33m(\u001b[0m\u001b[1;33m)\u001b[0m\u001b[1;33m\u001b[0m\u001b[1;33m\u001b[0m\u001b[0m\n",
      "\u001b[1;32m~\\anaconda3\\lib\\site-packages\\pymongo\\mongo_client.py\u001b[0m in \u001b[0;36m__init__\u001b[1;34m(self, host, port, document_class, tz_aware, connect, type_registry, **kwargs)\u001b[0m\n\u001b[0;32m    675\u001b[0m                     timeout = common.validate_timeout_or_none_or_zero(\n\u001b[0;32m    676\u001b[0m                         keyword_opts.cased_key(\"connecttimeoutms\"), timeout)\n\u001b[1;32m--> 677\u001b[1;33m                 res = uri_parser.parse_uri(\n\u001b[0m\u001b[0;32m    678\u001b[0m                     \u001b[0mentity\u001b[0m\u001b[1;33m,\u001b[0m \u001b[0mport\u001b[0m\u001b[1;33m,\u001b[0m \u001b[0mvalidate\u001b[0m\u001b[1;33m=\u001b[0m\u001b[1;32mTrue\u001b[0m\u001b[1;33m,\u001b[0m \u001b[0mwarn\u001b[0m\u001b[1;33m=\u001b[0m\u001b[1;32mTrue\u001b[0m\u001b[1;33m,\u001b[0m \u001b[0mnormalize\u001b[0m\u001b[1;33m=\u001b[0m\u001b[1;32mFalse\u001b[0m\u001b[1;33m,\u001b[0m\u001b[1;33m\u001b[0m\u001b[1;33m\u001b[0m\u001b[0m\n\u001b[0;32m    679\u001b[0m                     \u001b[0mconnect_timeout\u001b[0m\u001b[1;33m=\u001b[0m\u001b[0mtimeout\u001b[0m\u001b[1;33m,\u001b[0m\u001b[1;33m\u001b[0m\u001b[1;33m\u001b[0m\u001b[0m\n",
      "\u001b[1;32m~\\anaconda3\\lib\\site-packages\\pymongo\\uri_parser.py\u001b[0m in \u001b[0;36mparse_uri\u001b[1;34m(uri, default_port, validate, warn, normalize, connect_timeout, srv_service_name, srv_max_hosts)\u001b[0m\n\u001b[0;32m    453\u001b[0m         \u001b[1;32mif\u001b[0m \u001b[1;32mnot\u001b[0m \u001b[0m_HAVE_DNSPYTHON\u001b[0m\u001b[1;33m:\u001b[0m\u001b[1;33m\u001b[0m\u001b[1;33m\u001b[0m\u001b[0m\n\u001b[0;32m    454\u001b[0m             \u001b[0mpython_path\u001b[0m \u001b[1;33m=\u001b[0m \u001b[0msys\u001b[0m\u001b[1;33m.\u001b[0m\u001b[0mexecutable\u001b[0m \u001b[1;32mor\u001b[0m \u001b[1;34m\"python\"\u001b[0m\u001b[1;33m\u001b[0m\u001b[1;33m\u001b[0m\u001b[0m\n\u001b[1;32m--> 455\u001b[1;33m             raise ConfigurationError(\n\u001b[0m\u001b[0;32m    456\u001b[0m                 \u001b[1;34m'The \"dnspython\" module must be '\u001b[0m\u001b[1;33m\u001b[0m\u001b[1;33m\u001b[0m\u001b[0m\n\u001b[0;32m    457\u001b[0m                 \u001b[1;34m'installed to use mongodb+srv:// URIs. '\u001b[0m\u001b[1;33m\u001b[0m\u001b[1;33m\u001b[0m\u001b[0m\n",
      "\u001b[1;31mConfigurationError\u001b[0m: The \"dnspython\" module must be installed to use mongodb+srv:// URIs. To fix this error install pymongo with the srv extra:\n C:\\Users\\Student\\anaconda3\\python.exe -m pip install \"pymongo[srv]\""
     ]
    }
   ],
   "source": [
    "client = pymongo.MongoClient(conn_str[\"local\"])\n",
    "client.list_database_names()"
   ]
  },
  {
   "cell_type": "markdown",
   "id": "041367cc",
   "metadata": {},
   "source": [
    "#### 2.2. Connect to the \"*sample_training*\" database, and interogate it for the the collections it contains."
   ]
  },
  {
   "cell_type": "code",
   "execution_count": 15,
   "id": "2bd7814e",
   "metadata": {},
   "outputs": [
    {
     "data": {
      "text/plain": [
       "[]"
      ]
     },
     "execution_count": 15,
     "metadata": {},
     "output_type": "execute_result"
    }
   ],
   "source": [
    "db_name = \"sample_training\"\n",
    "\n",
    "db = client[db_name]\n",
    "db.list_collection_names()"
   ]
  },
  {
   "cell_type": "markdown",
   "id": "7e2a7d89",
   "metadata": {},
   "source": [
    "#### 2.3. Connect to the **trips** collection where we will be exploring a variety of querying techniques.\n",
    "For example, the following query makes use of the **find_one()** method to select the first document in the collection for the purpose of inspecting the structure and contents of a sample document.  Because each document may have a different schema, this single document can only give us a partial understanding of what the collection may contain. Notice that passing the *collection name* to the *database* object reference **db[  ]** returns a reference to the *collection* object."
   ]
  },
  {
   "cell_type": "code",
   "execution_count": 12,
   "id": "9e08b4d2",
   "metadata": {},
   "outputs": [],
   "source": [
    "collection = \"trips\"\n",
    "\n",
    "trips = db[collection]\n",
    "trips.find_one()"
   ]
  },
  {
   "cell_type": "markdown",
   "id": "06d23def",
   "metadata": {},
   "source": [
    "### 3.0. Using the MongoDB Query Language (MQL)\n",
    "\n",
    "The **find()** method returns a **cursor** containing all documents from the **collection** that match the filtering **conditions** that were provided. A **cursor** is required to *iterate* over the results because MongoDB manages **collections of documents** that contain **fields** rather than **tables of rows** that contain **columns** as we saw when studying relational database management systems like Microsoft SQL Server, Oracle and MySQL.\n",
    "\n",
    "#### 3.1. Specifying Conditions and Projections\n",
    "When querying MongoDB, the **find()** method of the **collection** object accepts two possible parameters. First, one or more **conditions** are used to *filter* or restrict the documents that are returned. Second, and optionally, a **projection** can be defined to control which **fields** that are returned. The **conditions** are the equivalent of a SQL query's *ON, WHERE* and *HAVING* clauses, and the **projection** is the equivalent of a SQL query's *SELECT* list.\n",
    "\n",
    "The MongoDB (JSON) query syntax includes numerous conditional operators, all of which begin with the **\\$** character (e.g., **\\$lt** *(less than)*, **\\$gt** *(greater than)*, **\\$lte** *(less than or equal to)*, **\\$gte** *(greater than or equal to)*). These operators can be used either alone or in concert with one another to perform exact matches and/or range matches.\n",
    "\n",
    "For example, the following query **excludes** the *_id* field and **includes** the *tripduration, bikeid and birth year* fields where the **tripduration** is *greater than* 90 seconds and *less than* 100 seconds, and the **birth year** is greater than or equal to *1970*. The results are then **sorted** by **trip duration** in descending order."
   ]
  },
  {
   "cell_type": "code",
   "execution_count": 13,
   "id": "213a554a",
   "metadata": {},
   "outputs": [],
   "source": [
    "# The SELECT list -----------------------------------------------\n",
    "projection = {\"_id\": 0, \"tripduration\": 1, \"bikeid\": 1, \"birth year\": 1}\n",
    "\n",
    "# The WHERE clause ----------------------------------------------\n",
    "conditions = {\"tripduration\":{\"$gt\": 90, \"$lt\": 100}, \"birth year\":{\"$gte\": 1970}}\n",
    "\n",
    "# The ORDER BY clause -------------------------------------------\n",
    "orderby = [(\"tripduration\", -1)]\n",
    "\n",
    "for trip in trips.find(conditions, projection).sort(orderby):\n",
    "    print(trip)"
   ]
  },
  {
   "cell_type": "markdown",
   "id": "67804fef",
   "metadata": {},
   "source": [
    "##### 3.1.1. Using the Pandas DataFrame\n",
    "To make interacting with the *collection of documents* that are returned by the **find()** method much easier, we can use the Python **list()** method to *package* each document returned by the cursor into a Python **list** object that can then be passed to the *Pandas* **DataFrame()** constructor. This technique is very usefull for interacting with document collections having a common subset of fields available for **projection**.  "
   ]
  },
  {
   "cell_type": "code",
   "execution_count": 14,
   "id": "a4c1a93a",
   "metadata": {},
   "outputs": [
    {
     "data": {
      "text/html": [
       "<div>\n",
       "<style scoped>\n",
       "    .dataframe tbody tr th:only-of-type {\n",
       "        vertical-align: middle;\n",
       "    }\n",
       "\n",
       "    .dataframe tbody tr th {\n",
       "        vertical-align: top;\n",
       "    }\n",
       "\n",
       "    .dataframe thead th {\n",
       "        text-align: right;\n",
       "    }\n",
       "</style>\n",
       "<table border=\"1\" class=\"dataframe\">\n",
       "  <thead>\n",
       "    <tr style=\"text-align: right;\">\n",
       "      <th></th>\n",
       "    </tr>\n",
       "  </thead>\n",
       "  <tbody>\n",
       "  </tbody>\n",
       "</table>\n",
       "</div>"
      ],
      "text/plain": [
       "Empty DataFrame\n",
       "Columns: []\n",
       "Index: []"
      ]
     },
     "execution_count": 14,
     "metadata": {},
     "output_type": "execute_result"
    }
   ],
   "source": [
    "df = pd.DataFrame( list( db.trips.find(conditions, projection).sort(orderby) ) )\n",
    "df"
   ]
  },
  {
   "cell_type": "markdown",
   "id": "a61937a9",
   "metadata": {},
   "source": [
    "#### 3.1.2. Using Logical Operators\n",
    "In structuring a list of **conditions**, it is implicit that the conditions are **cumulative**. In other words, each conditional expression builds upon all former conditions using **AND** logical operation.  It is also possible to express **OR** logical operation using either the **\\$in**, or **\\$or** operators.\n",
    "\n",
    "First, the **\\$in** operator functions identically to the **IN** operator of the Structured Query Language (SQL) that's used to interact with relational database management systems like Microsoft SQL Server, Oracle, MySQL and PostgreSQL in that its functionality enables matching multiple values for a single key (field).  In the following query, all documents are returned where the **birth year** field contains either the value **1936, 1939** *or* **1943**."
   ]
  },
  {
   "cell_type": "code",
   "execution_count": 16,
   "id": "922eea90",
   "metadata": {},
   "outputs": [
    {
     "data": {
      "text/html": [
       "<div>\n",
       "<style scoped>\n",
       "    .dataframe tbody tr th:only-of-type {\n",
       "        vertical-align: middle;\n",
       "    }\n",
       "\n",
       "    .dataframe tbody tr th {\n",
       "        vertical-align: top;\n",
       "    }\n",
       "\n",
       "    .dataframe thead th {\n",
       "        text-align: right;\n",
       "    }\n",
       "</style>\n",
       "<table border=\"1\" class=\"dataframe\">\n",
       "  <thead>\n",
       "    <tr style=\"text-align: right;\">\n",
       "      <th></th>\n",
       "    </tr>\n",
       "  </thead>\n",
       "  <tbody>\n",
       "  </tbody>\n",
       "</table>\n",
       "</div>"
      ],
      "text/plain": [
       "Empty DataFrame\n",
       "Columns: []\n",
       "Index: []"
      ]
     },
     "execution_count": 16,
     "metadata": {},
     "output_type": "execute_result"
    }
   ],
   "source": [
    "conditions = {\"birth year\" : {\"$in\" : [1936, 1939, 1943]}}\n",
    "    \n",
    "df = pd.DataFrame( list(db.trips.find(conditions, projection).sort(orderby)) )\n",
    "df"
   ]
  },
  {
   "cell_type": "markdown",
   "id": "25a658dc",
   "metadata": {},
   "source": [
    "Conversely, the **\\$nin** operator is used to express **NOT IN** logical operation. The following query returns all documents where the **birth year** field contains any values other than *1960, 1970* **or** *1980*. Also, here we rely on the **head()** function of the Pandas DataFrame object to specify the number of documents to return from the top *(head)* of the result-set; the default number of rows is 5."
   ]
  },
  {
   "cell_type": "code",
   "execution_count": 9,
   "id": "06546019",
   "metadata": {},
   "outputs": [
    {
     "data": {
      "text/html": [
       "<div>\n",
       "<style scoped>\n",
       "    .dataframe tbody tr th:only-of-type {\n",
       "        vertical-align: middle;\n",
       "    }\n",
       "\n",
       "    .dataframe tbody tr th {\n",
       "        vertical-align: top;\n",
       "    }\n",
       "\n",
       "    .dataframe thead th {\n",
       "        text-align: right;\n",
       "    }\n",
       "</style>\n",
       "<table border=\"1\" class=\"dataframe\">\n",
       "  <thead>\n",
       "    <tr style=\"text-align: right;\">\n",
       "      <th></th>\n",
       "      <th>tripduration</th>\n",
       "      <th>bikeid</th>\n",
       "      <th>birth year</th>\n",
       "    </tr>\n",
       "  </thead>\n",
       "  <tbody>\n",
       "    <tr>\n",
       "      <th>0</th>\n",
       "      <td>326222</td>\n",
       "      <td>18591</td>\n",
       "      <td>1979</td>\n",
       "    </tr>\n",
       "    <tr>\n",
       "      <th>1</th>\n",
       "      <td>279620</td>\n",
       "      <td>17547</td>\n",
       "      <td></td>\n",
       "    </tr>\n",
       "    <tr>\n",
       "      <th>2</th>\n",
       "      <td>173357</td>\n",
       "      <td>15881</td>\n",
       "      <td></td>\n",
       "    </tr>\n",
       "    <tr>\n",
       "      <th>3</th>\n",
       "      <td>152023</td>\n",
       "      <td>22678</td>\n",
       "      <td>1992</td>\n",
       "    </tr>\n",
       "    <tr>\n",
       "      <th>4</th>\n",
       "      <td>146099</td>\n",
       "      <td>15553</td>\n",
       "      <td></td>\n",
       "    </tr>\n",
       "  </tbody>\n",
       "</table>\n",
       "</div>"
      ],
      "text/plain": [
       "   tripduration  bikeid birth year\n",
       "0        326222   18591       1979\n",
       "1        279620   17547           \n",
       "2        173357   15881           \n",
       "3        152023   22678       1992\n",
       "4        146099   15553           "
      ]
     },
     "execution_count": 9,
     "metadata": {},
     "output_type": "execute_result"
    }
   ],
   "source": [
    "conditions = {\"birth year\" : {\"$nin\" : [1960, 1970, 1980]}}\n",
    "\n",
    "df = pd.DataFrame( list(db.trips.find(conditions, projection).sort(orderby) ) )\n",
    "df.head()"
   ]
  },
  {
   "cell_type": "markdown",
   "id": "0bf9ce19",
   "metadata": {},
   "source": [
    "Where it becomes necessary to match values regarding multiple keys (fields), the **\\$or** operator can be used in a manner that's identical to the **OR** operator of the **SQL** language. The following query returns all documents where the **birth year** field contains the value *1988* **OR** the **start station id** field contains the value contains the value *270*.  We also illustrate the **limit()** function being used to return a specified number of documents from the **top** of the result-set."
   ]
  },
  {
   "cell_type": "code",
   "execution_count": 10,
   "id": "f7301be2",
   "metadata": {},
   "outputs": [
    {
     "data": {
      "text/html": [
       "<div>\n",
       "<style scoped>\n",
       "    .dataframe tbody tr th:only-of-type {\n",
       "        vertical-align: middle;\n",
       "    }\n",
       "\n",
       "    .dataframe tbody tr th {\n",
       "        vertical-align: top;\n",
       "    }\n",
       "\n",
       "    .dataframe thead th {\n",
       "        text-align: right;\n",
       "    }\n",
       "</style>\n",
       "<table border=\"1\" class=\"dataframe\">\n",
       "  <thead>\n",
       "    <tr style=\"text-align: right;\">\n",
       "      <th></th>\n",
       "      <th>tripduration</th>\n",
       "      <th>start station id</th>\n",
       "      <th>birth year</th>\n",
       "    </tr>\n",
       "  </thead>\n",
       "  <tbody>\n",
       "    <tr>\n",
       "      <th>0</th>\n",
       "      <td>3248</td>\n",
       "      <td>3175</td>\n",
       "      <td>1988</td>\n",
       "    </tr>\n",
       "    <tr>\n",
       "      <th>1</th>\n",
       "      <td>3102</td>\n",
       "      <td>224</td>\n",
       "      <td>1988</td>\n",
       "    </tr>\n",
       "    <tr>\n",
       "      <th>2</th>\n",
       "      <td>2606</td>\n",
       "      <td>307</td>\n",
       "      <td>1988</td>\n",
       "    </tr>\n",
       "    <tr>\n",
       "      <th>3</th>\n",
       "      <td>2595</td>\n",
       "      <td>485</td>\n",
       "      <td>1988</td>\n",
       "    </tr>\n",
       "    <tr>\n",
       "      <th>4</th>\n",
       "      <td>2488</td>\n",
       "      <td>270</td>\n",
       "      <td></td>\n",
       "    </tr>\n",
       "    <tr>\n",
       "      <th>5</th>\n",
       "      <td>2397</td>\n",
       "      <td>3160</td>\n",
       "      <td>1988</td>\n",
       "    </tr>\n",
       "    <tr>\n",
       "      <th>6</th>\n",
       "      <td>2364</td>\n",
       "      <td>511</td>\n",
       "      <td>1988</td>\n",
       "    </tr>\n",
       "  </tbody>\n",
       "</table>\n",
       "</div>"
      ],
      "text/plain": [
       "   tripduration  start station id birth year\n",
       "0          3248              3175       1988\n",
       "1          3102               224       1988\n",
       "2          2606               307       1988\n",
       "3          2595               485       1988\n",
       "4          2488               270           \n",
       "5          2397              3160       1988\n",
       "6          2364               511       1988"
      ]
     },
     "execution_count": 10,
     "metadata": {},
     "output_type": "execute_result"
    }
   ],
   "source": [
    "projection = {\"_id\": 0, \"start station id\": 1, \"birth year\": 1, \"tripduration\": 1}\n",
    "conditions = {\"$or\" : [{\"birth year\" : 1988}, {\"start station id\" : 270}]}\n",
    "num_rows = 7\n",
    "\n",
    "df = pd.DataFrame( list(db.trips.find(conditions, projection).sort(orderby).limit(num_rows) ) )\n",
    "df"
   ]
  },
  {
   "cell_type": "markdown",
   "id": "a504bce3",
   "metadata": {},
   "source": [
    "What's more, the **\\$not** metaconditional operator can be used in concert with many other conditionals for the sake of *negating* the expression."
   ]
  },
  {
   "cell_type": "code",
   "execution_count": 11,
   "id": "7be6f850",
   "metadata": {},
   "outputs": [
    {
     "data": {
      "text/html": [
       "<div>\n",
       "<style scoped>\n",
       "    .dataframe tbody tr th:only-of-type {\n",
       "        vertical-align: middle;\n",
       "    }\n",
       "\n",
       "    .dataframe tbody tr th {\n",
       "        vertical-align: top;\n",
       "    }\n",
       "\n",
       "    .dataframe thead th {\n",
       "        text-align: right;\n",
       "    }\n",
       "</style>\n",
       "<table border=\"1\" class=\"dataframe\">\n",
       "  <thead>\n",
       "    <tr style=\"text-align: right;\">\n",
       "      <th></th>\n",
       "      <th>usertype</th>\n",
       "      <th>birth year</th>\n",
       "    </tr>\n",
       "  </thead>\n",
       "  <tbody>\n",
       "    <tr>\n",
       "      <th>0</th>\n",
       "      <td>Subscriber</td>\n",
       "      <td>1988</td>\n",
       "    </tr>\n",
       "    <tr>\n",
       "      <th>1</th>\n",
       "      <td>Subscriber</td>\n",
       "      <td>1988</td>\n",
       "    </tr>\n",
       "    <tr>\n",
       "      <th>2</th>\n",
       "      <td>Subscriber</td>\n",
       "      <td>1988</td>\n",
       "    </tr>\n",
       "    <tr>\n",
       "      <th>3</th>\n",
       "      <td>Subscriber</td>\n",
       "      <td>1988</td>\n",
       "    </tr>\n",
       "    <tr>\n",
       "      <th>4</th>\n",
       "      <td>Customer</td>\n",
       "      <td></td>\n",
       "    </tr>\n",
       "    <tr>\n",
       "      <th>5</th>\n",
       "      <td>Subscriber</td>\n",
       "      <td>1988</td>\n",
       "    </tr>\n",
       "    <tr>\n",
       "      <th>6</th>\n",
       "      <td>Subscriber</td>\n",
       "      <td>1988</td>\n",
       "    </tr>\n",
       "  </tbody>\n",
       "</table>\n",
       "</div>"
      ],
      "text/plain": [
       "     usertype birth year\n",
       "0  Subscriber       1988\n",
       "1  Subscriber       1988\n",
       "2  Subscriber       1988\n",
       "3  Subscriber       1988\n",
       "4    Customer           \n",
       "5  Subscriber       1988\n",
       "6  Subscriber       1988"
      ]
     },
     "execution_count": 11,
     "metadata": {},
     "output_type": "execute_result"
    }
   ],
   "source": [
    "condition = {\"birth year\" : {\"$not\" : {\"$in\" : [1960, 1965, 1970, 1975, 1980]}}}\n",
    "projection = {\"_id\": 0, \"usertype\": 1, \"birth year\": 1}\n",
    "\n",
    "df = pd.DataFrame( list(db.trips.find(conditions, projection).sort(orderby).limit(num_rows) ) )\n",
    "df"
   ]
  },
  {
   "cell_type": "markdown",
   "id": "5f98795c",
   "metadata": {},
   "source": [
    "### 4.0. Using the MongoDB Aggregation Framework\n",
    "The aggregation framework enables using a *pipeline* construct where the result of each element is passed to the next.\n",
    "\n",
    "#### 4.1. The Match and Project Stages:  \n",
    "In our first task we illustrate simply duplicating the behavior of the *MongoDB Query Language (MQL)* queries we've already seen. The following cell demonstrates how the **\\$project** operator works in concert with the **\\$match** operator to return the same results as an MQL query that specifies returning the **start station id** and **birth year** fields **where** the **birth year** is equal to **1941**."
   ]
  },
  {
   "cell_type": "code",
   "execution_count": 12,
   "id": "d53c380f",
   "metadata": {},
   "outputs": [
    {
     "data": {
      "text/html": [
       "<div>\n",
       "<style scoped>\n",
       "    .dataframe tbody tr th:only-of-type {\n",
       "        vertical-align: middle;\n",
       "    }\n",
       "\n",
       "    .dataframe tbody tr th {\n",
       "        vertical-align: top;\n",
       "    }\n",
       "\n",
       "    .dataframe thead th {\n",
       "        text-align: right;\n",
       "    }\n",
       "</style>\n",
       "<table border=\"1\" class=\"dataframe\">\n",
       "  <thead>\n",
       "    <tr style=\"text-align: right;\">\n",
       "      <th></th>\n",
       "      <th>start station id</th>\n",
       "      <th>birth year</th>\n",
       "    </tr>\n",
       "  </thead>\n",
       "  <tbody>\n",
       "    <tr>\n",
       "      <th>0</th>\n",
       "      <td>3224</td>\n",
       "      <td>1941</td>\n",
       "    </tr>\n",
       "    <tr>\n",
       "      <th>1</th>\n",
       "      <td>515</td>\n",
       "      <td>1941</td>\n",
       "    </tr>\n",
       "    <tr>\n",
       "      <th>2</th>\n",
       "      <td>444</td>\n",
       "      <td>1941</td>\n",
       "    </tr>\n",
       "    <tr>\n",
       "      <th>3</th>\n",
       "      <td>444</td>\n",
       "      <td>1941</td>\n",
       "    </tr>\n",
       "    <tr>\n",
       "      <th>4</th>\n",
       "      <td>504</td>\n",
       "      <td>1941</td>\n",
       "    </tr>\n",
       "    <tr>\n",
       "      <th>5</th>\n",
       "      <td>368</td>\n",
       "      <td>1941</td>\n",
       "    </tr>\n",
       "    <tr>\n",
       "      <th>6</th>\n",
       "      <td>444</td>\n",
       "      <td>1941</td>\n",
       "    </tr>\n",
       "    <tr>\n",
       "      <th>7</th>\n",
       "      <td>446</td>\n",
       "      <td>1941</td>\n",
       "    </tr>\n",
       "    <tr>\n",
       "      <th>8</th>\n",
       "      <td>466</td>\n",
       "      <td>1941</td>\n",
       "    </tr>\n",
       "  </tbody>\n",
       "</table>\n",
       "</div>"
      ],
      "text/plain": [
       "   start station id  birth year\n",
       "0              3224        1941\n",
       "1               515        1941\n",
       "2               444        1941\n",
       "3               444        1941\n",
       "4               504        1941\n",
       "5               368        1941\n",
       "6               444        1941\n",
       "7               446        1941\n",
       "8               466        1941"
      ]
     },
     "execution_count": 12,
     "metadata": {},
     "output_type": "execute_result"
    }
   ],
   "source": [
    "df = pd.DataFrame( list(\n",
    "    \n",
    "    db.trips.aggregate([\n",
    "        {\"$project\": {\"start station id\": 1, \"birth year\": 1, \"_id\": 0}},\n",
    "        {\"$match\": {\"birth year\": 1941}}\n",
    "    ])\n",
    "    \n",
    "))\n",
    "df"
   ]
  },
  {
   "cell_type": "markdown",
   "id": "ff27e434",
   "metadata": {},
   "source": [
    "#### 4.2. The Group Stage\n",
    "While the code listing above doesn't illustrate the power of the aggregation framework, the following demonstrates how the aggregation framework enables **grouping** document collections by specific criteria. \n",
    "- In the first example below we demonstrate how to enumerate all the unique values in the **birth year** field greater than or equal to 1990\n",
    "- Then we show how to calculate the **count** of documents **having** the same **birth year**, returning only the **top 10 birth years** with the greatest **count**."
   ]
  },
  {
   "cell_type": "code",
   "execution_count": 13,
   "id": "2b7d8eb5",
   "metadata": {},
   "outputs": [
    {
     "data": {
      "text/html": [
       "<div>\n",
       "<style scoped>\n",
       "    .dataframe tbody tr th:only-of-type {\n",
       "        vertical-align: middle;\n",
       "    }\n",
       "\n",
       "    .dataframe tbody tr th {\n",
       "        vertical-align: top;\n",
       "    }\n",
       "\n",
       "    .dataframe thead th {\n",
       "        text-align: right;\n",
       "    }\n",
       "</style>\n",
       "<table border=\"1\" class=\"dataframe\">\n",
       "  <thead>\n",
       "    <tr style=\"text-align: right;\">\n",
       "      <th></th>\n",
       "      <th>_id</th>\n",
       "    </tr>\n",
       "  </thead>\n",
       "  <tbody>\n",
       "    <tr>\n",
       "      <th>0</th>\n",
       "      <td>1992</td>\n",
       "    </tr>\n",
       "    <tr>\n",
       "      <th>1</th>\n",
       "      <td>1990</td>\n",
       "    </tr>\n",
       "    <tr>\n",
       "      <th>2</th>\n",
       "      <td>1997</td>\n",
       "    </tr>\n",
       "    <tr>\n",
       "      <th>3</th>\n",
       "      <td>1991</td>\n",
       "    </tr>\n",
       "    <tr>\n",
       "      <th>4</th>\n",
       "      <td>1994</td>\n",
       "    </tr>\n",
       "    <tr>\n",
       "      <th>5</th>\n",
       "      <td>1995</td>\n",
       "    </tr>\n",
       "    <tr>\n",
       "      <th>6</th>\n",
       "      <td>1996</td>\n",
       "    </tr>\n",
       "    <tr>\n",
       "      <th>7</th>\n",
       "      <td>1993</td>\n",
       "    </tr>\n",
       "    <tr>\n",
       "      <th>8</th>\n",
       "      <td>1999</td>\n",
       "    </tr>\n",
       "    <tr>\n",
       "      <th>9</th>\n",
       "      <td>1998</td>\n",
       "    </tr>\n",
       "  </tbody>\n",
       "</table>\n",
       "</div>"
      ],
      "text/plain": [
       "    _id\n",
       "0  1992\n",
       "1  1990\n",
       "2  1997\n",
       "3  1991\n",
       "4  1994\n",
       "5  1995\n",
       "6  1996\n",
       "7  1993\n",
       "8  1999\n",
       "9  1998"
      ]
     },
     "execution_count": 13,
     "metadata": {},
     "output_type": "execute_result"
    }
   ],
   "source": [
    "df = pd.DataFrame( list(\n",
    "    \n",
    "    db.trips.aggregate([\n",
    "        {\"$project\": {\"birth year\": 1, \"_id\": 0}},\n",
    "        {\"$match\": {\"birth year\": {\"$gte\": 1990}}},\n",
    "        {\"$group\": {\"_id\": \"$birth year\"} \n",
    "        }\n",
    "    ])\n",
    "    \n",
    "))\n",
    "df"
   ]
  },
  {
   "cell_type": "code",
   "execution_count": 14,
   "id": "31b8b458",
   "metadata": {
    "scrolled": true
   },
   "outputs": [
    {
     "data": {
      "text/html": [
       "<div>\n",
       "<style scoped>\n",
       "    .dataframe tbody tr th:only-of-type {\n",
       "        vertical-align: middle;\n",
       "    }\n",
       "\n",
       "    .dataframe tbody tr th {\n",
       "        vertical-align: top;\n",
       "    }\n",
       "\n",
       "    .dataframe thead th {\n",
       "        text-align: right;\n",
       "    }\n",
       "</style>\n",
       "<table border=\"1\" class=\"dataframe\">\n",
       "  <thead>\n",
       "    <tr style=\"text-align: right;\">\n",
       "      <th></th>\n",
       "      <th>_id</th>\n",
       "      <th>count</th>\n",
       "    </tr>\n",
       "  </thead>\n",
       "  <tbody>\n",
       "    <tr>\n",
       "      <th>0</th>\n",
       "      <td>1990</td>\n",
       "      <td>263</td>\n",
       "    </tr>\n",
       "    <tr>\n",
       "      <th>1</th>\n",
       "      <td>1991</td>\n",
       "      <td>250</td>\n",
       "    </tr>\n",
       "    <tr>\n",
       "      <th>2</th>\n",
       "      <td>1992</td>\n",
       "      <td>187</td>\n",
       "    </tr>\n",
       "    <tr>\n",
       "      <th>3</th>\n",
       "      <td>1993</td>\n",
       "      <td>101</td>\n",
       "    </tr>\n",
       "    <tr>\n",
       "      <th>4</th>\n",
       "      <td>1994</td>\n",
       "      <td>65</td>\n",
       "    </tr>\n",
       "    <tr>\n",
       "      <th>5</th>\n",
       "      <td>1995</td>\n",
       "      <td>29</td>\n",
       "    </tr>\n",
       "    <tr>\n",
       "      <th>6</th>\n",
       "      <td>1996</td>\n",
       "      <td>26</td>\n",
       "    </tr>\n",
       "    <tr>\n",
       "      <th>7</th>\n",
       "      <td>1997</td>\n",
       "      <td>24</td>\n",
       "    </tr>\n",
       "    <tr>\n",
       "      <th>8</th>\n",
       "      <td>1999</td>\n",
       "      <td>18</td>\n",
       "    </tr>\n",
       "    <tr>\n",
       "      <th>9</th>\n",
       "      <td>1998</td>\n",
       "      <td>12</td>\n",
       "    </tr>\n",
       "  </tbody>\n",
       "</table>\n",
       "</div>"
      ],
      "text/plain": [
       "    _id  count\n",
       "0  1990    263\n",
       "1  1991    250\n",
       "2  1992    187\n",
       "3  1993    101\n",
       "4  1994     65\n",
       "5  1995     29\n",
       "6  1996     26\n",
       "7  1997     24\n",
       "8  1999     18\n",
       "9  1998     12"
      ]
     },
     "execution_count": 14,
     "metadata": {},
     "output_type": "execute_result"
    }
   ],
   "source": [
    "df = pd.DataFrame( list(\n",
    "    \n",
    "    db.trips.aggregate([\n",
    "        {\"$project\": {\"birth year\": 1, \"_id\": 0}},\n",
    "        {\"$match\": {\"birth year\": {\"$gte\": 1990}}},\n",
    "        {\"$group\": {\"_id\": \"$birth year\",\n",
    "                    \"count\": {\"$sum\": 1}\n",
    "                   }\n",
    "        },\n",
    "        {\"$sort\": {\"count\": -1}},\n",
    "        {\"$limit\": 10}\n",
    "    ])\n",
    "    \n",
    "))\n",
    "df"
   ]
  }
 ],
 "metadata": {
  "kernelspec": {
   "display_name": "Python 3",
   "language": "python",
   "name": "python3"
  },
  "language_info": {
   "codemirror_mode": {
    "name": "ipython",
    "version": 3
   },
   "file_extension": ".py",
   "mimetype": "text/x-python",
   "name": "python",
   "nbconvert_exporter": "python",
   "pygments_lexer": "ipython3",
   "version": "3.8.8"
  }
 },
 "nbformat": 4,
 "nbformat_minor": 5
}
